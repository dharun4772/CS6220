{
 "cells": [
  {
   "cell_type": "markdown",
   "metadata": {
    "id": "9_q2or6GkGKH"
   },
   "source": [
    "### Problem 1: Cardinality of a Set"
   ]
  },
  {
   "cell_type": "code",
   "execution_count": 1,
   "metadata": {
    "id": "vBdAecAwpqPE"
   },
   "outputs": [],
   "source": [
    "import csv"
   ]
  },
  {
   "cell_type": "code",
   "execution_count": 2,
   "metadata": {},
   "outputs": [],
   "source": [
    "path = \"E:/CS6220/Assignment 1/\""
   ]
  },
  {
   "cell_type": "code",
   "execution_count": 3,
   "metadata": {
    "colab": {
     "base_uri": "https://localhost:8080/"
    },
    "id": "i0Vax0gEj36I",
    "outputId": "ae50d889-7a6e-4063-f140-31907d97046d"
   },
   "outputs": [
    {
     "name": "stdout",
     "output_type": "stream",
     "text": [
      "The cardinality of the document given 21\n"
     ]
    }
   ],
   "source": [
    "def cardinality_items(filename):\n",
    "    cadinality_set=set()\n",
    "    with open(path+filename,'r') as f:\n",
    "        reader = csv.reader(f)\n",
    "        for row in reader:\n",
    "            cadinality_set = cadinality_set.union(set([element.strip() for element in row]))\n",
    "    return len(cadinality_set)\n",
    "print(\"The cardinality of the document given\", cardinality_items(\"basket_data.csv\"))"
   ]
  },
  {
   "cell_type": "markdown",
   "metadata": {
    "id": "gXUVM58PrqZS"
   },
   "source": [
    "### Problem 2: ItemSets formation"
   ]
  },
  {
   "cell_type": "code",
   "execution_count": 4,
   "metadata": {
    "colab": {
     "base_uri": "https://localhost:8080/"
    },
    "id": "0cZImByKsbfQ",
    "outputId": "8ee0cc9d-dc5a-4bbd-d61d-e0b577863906"
   },
   "outputs": [
    {
     "name": "stdout",
     "output_type": "stream",
     "text": [
      "[['ham', 'cheese', 'bread'], ['ham', 'cheese', 'sugar'], ['ham', 'bread', 'sugar'], ['cheese', 'bread', 'sugar']]\n"
     ]
    }
   ],
   "source": [
    "def all_itemsets(items, k):\n",
    "    if k == 0:\n",
    "        return [[]]\n",
    "    elif k > len(items):\n",
    "        return []\n",
    "    else:\n",
    "        itemsets = []\n",
    "        for i in range(len(items)):\n",
    "            current_item = items[i]\n",
    "            remaining_items = items[i+1:]\n",
    "            for subset in all_itemsets(remaining_items, k-1):\n",
    "                itemsets.append([current_item] + subset)\n",
    "        return itemsets\n",
    "\n",
    "# Example usage:\n",
    "items_list = [\"ham\", \"cheese\", \"bread\",\"sugar\"]\n",
    "k = 3\n",
    "result = all_itemsets(items_list, k)\n",
    "print(result)"
   ]
  },
  {
   "cell_type": "markdown",
   "metadata": {
    "id": "RbdoAo_ary-M"
   },
   "source": [
    "Netflix Data Set: Data Verfication and Analysis"
   ]
  },
  {
   "cell_type": "markdown",
   "metadata": {
    "id": "VU5lxgWePdTb"
   },
   "source": [
    "### Problem 3: Review Combined Data file"
   ]
  },
  {
   "cell_type": "code",
   "execution_count": 6,
   "metadata": {
    "id": "_ktvUIFtRsjb"
   },
   "outputs": [],
   "source": [
    "import pandas as pd\n",
    "import numpy as np\n",
    "import matplotlib.pyplot as plt\n",
    "import seaborn as sns"
   ]
  },
  {
   "cell_type": "code",
   "execution_count": 7,
   "metadata": {
    "id": "MMI6Lh52bWrY"
   },
   "outputs": [],
   "source": [
    "def pipe(filename):\n",
    "    data = pd.read_csv(path+filename,header=None,names=['customer_id','rating','date'])\n",
    "    return data\n",
    "\n",
    "df_final = pd.concat([pipe('combined_data_1.txt'),pipe('combined_data_2.txt'),pipe('combined_data_3.txt'),pipe('combined_data_4.txt')], axis=0)"
   ]
  },
  {
   "cell_type": "code",
   "execution_count": 8,
   "metadata": {},
   "outputs": [],
   "source": [
    "df_final['movie']=0"
   ]
  },
  {
   "cell_type": "code",
   "execution_count": 9,
   "metadata": {},
   "outputs": [],
   "source": [
    "df_final.date = pd.to_datetime(df_final.date)"
   ]
  },
  {
   "cell_type": "code",
   "execution_count": 10,
   "metadata": {
    "id": "2iI5OrqkCM8y",
    "scrolled": true
   },
   "outputs": [
    {
     "name": "stdout",
     "output_type": "stream",
     "text": [
      "<class 'pandas.core.frame.DataFrame'>\n",
      "Int64Index: 100498277 entries, 0 to 26851925\n",
      "Data columns (total 4 columns):\n",
      " #   Column       Dtype         \n",
      "---  ------       -----         \n",
      " 0   customer_id  object        \n",
      " 1   rating       float64       \n",
      " 2   date         datetime64[ns]\n",
      " 3   movie        int64         \n",
      "dtypes: datetime64[ns](1), float64(1), int64(1), object(1)\n",
      "memory usage: 3.7+ GB\n"
     ]
    }
   ],
   "source": [
    "df_final.info()"
   ]
  },
  {
   "cell_type": "code",
   "execution_count": 11,
   "metadata": {},
   "outputs": [],
   "source": [
    "df_final.reset_index(drop=True, inplace=True)\n",
    "index_range = df_final[df_final.rating.isnull()].index"
   ]
  },
  {
   "cell_type": "code",
   "execution_count": 12,
   "metadata": {},
   "outputs": [],
   "source": [
    "for i in range(len(index_range)-1):\n",
    "    df_final.iloc[index_range[i]:index_range[i+1],3]=i+1\n",
    "i+=1\n",
    "df_final.iloc[index_range[i]:,3]=i+1"
   ]
  },
  {
   "cell_type": "code",
   "execution_count": 13,
   "metadata": {},
   "outputs": [],
   "source": [
    "df_final.drop(index_range, axis=0, inplace=True)\n",
    "df_final.reset_index(drop=True, inplace=True)"
   ]
  },
  {
   "cell_type": "code",
   "execution_count": 14,
   "metadata": {},
   "outputs": [],
   "source": [
    "df_final.customer_id = df_final.customer_id.astype(int)"
   ]
  },
  {
   "cell_type": "markdown",
   "metadata": {},
   "source": [
    "3.a Total records of movie rating in the overall dataset"
   ]
  },
  {
   "cell_type": "code",
   "execution_count": 15,
   "metadata": {},
   "outputs": [
    {
     "name": "stdout",
     "output_type": "stream",
     "text": [
      "#Records of Movie Rating  100480507\n"
     ]
    }
   ],
   "source": [
    "print(\"#Records of Movie Rating \",df_final.count()[0])"
   ]
  },
  {
   "cell_type": "markdown",
   "metadata": {},
   "source": [
    "3.b #Unique users in the entire dataset"
   ]
  },
  {
   "cell_type": "code",
   "execution_count": 16,
   "metadata": {},
   "outputs": [
    {
     "name": "stdout",
     "output_type": "stream",
     "text": [
      "#Unique users 480189\n"
     ]
    }
   ],
   "source": [
    "print(\"#Unique users\",len(df_final.customer_id.unique()))"
   ]
  },
  {
   "cell_type": "markdown",
   "metadata": {},
   "source": [
    "3.c Range of years this data is valid for"
   ]
  },
  {
   "cell_type": "code",
   "execution_count": 17,
   "metadata": {},
   "outputs": [
    {
     "name": "stdout",
     "output_type": "stream",
     "text": [
      "The range of years this data is valid for is from 1999 to 2005\n"
     ]
    }
   ],
   "source": [
    "print(f\"The range of years this data is valid for is from {df_final.date.dt.year.min()} to {df_final.date.dt.year.max()}\")"
   ]
  },
  {
   "cell_type": "markdown",
   "metadata": {},
   "source": [
    "### Problem 4: Review Movies_titles dataset"
   ]
  },
  {
   "cell_type": "code",
   "execution_count": 18,
   "metadata": {},
   "outputs": [],
   "source": [
    "with open(path+\"movie_titles.csv\", 'r') as file:\n",
    "    column1,column2,column3=[],[],[]\n",
    "    for line in file:\n",
    "        parts = line.strip().split(',')\n",
    "        column1.append(parts[0])\n",
    "        column2.append(parts[1])\n",
    "        if(len(parts)>=2):\n",
    "            column3.append(\",\".join(parts[2:]))\n",
    "\n",
    "# Create a DataFrame using the extracted data\n",
    "import pandas as pd\n",
    "\n",
    "data = {'id': column1, 'year': column2, 'movie_title': column3}\n",
    "df_movie = pd.DataFrame(data)"
   ]
  },
  {
   "cell_type": "code",
   "execution_count": 19,
   "metadata": {},
   "outputs": [
    {
     "name": "stdout",
     "output_type": "stream",
     "text": [
      "<class 'pandas.core.frame.DataFrame'>\n",
      "RangeIndex: 17770 entries, 0 to 17769\n",
      "Data columns (total 3 columns):\n",
      " #   Column       Non-Null Count  Dtype \n",
      "---  ------       --------------  ----- \n",
      " 0   id           17770 non-null  object\n",
      " 1   year         17770 non-null  object\n",
      " 2   movie_title  17770 non-null  object\n",
      "dtypes: object(3)\n",
      "memory usage: 416.6+ KB\n"
     ]
    }
   ],
   "source": [
    "df_movie.info()"
   ]
  },
  {
   "cell_type": "code",
   "execution_count": 20,
   "metadata": {},
   "outputs": [],
   "source": [
    "df_movie.id = df_movie.id.astype(int)"
   ]
  },
  {
   "cell_type": "markdown",
   "metadata": {},
   "source": [
    "4.a How many movies with unique names are there"
   ]
  },
  {
   "cell_type": "code",
   "execution_count": 21,
   "metadata": {},
   "outputs": [
    {
     "name": "stdout",
     "output_type": "stream",
     "text": [
      "#Unique movie names 17359\n"
     ]
    }
   ],
   "source": [
    "print(\"#Unique movie names\",len(df_movie.movie_title.unique()))"
   ]
  },
  {
   "cell_type": "markdown",
   "metadata": {},
   "source": [
    "4.b How many movie names refer to four different movies?"
   ]
  },
  {
   "cell_type": "code",
   "execution_count": 22,
   "metadata": {},
   "outputs": [
    {
     "data": {
      "text/html": [
       "<div>\n",
       "<style scoped>\n",
       "    .dataframe tbody tr th:only-of-type {\n",
       "        vertical-align: middle;\n",
       "    }\n",
       "\n",
       "    .dataframe tbody tr th {\n",
       "        vertical-align: top;\n",
       "    }\n",
       "\n",
       "    .dataframe thead th {\n",
       "        text-align: right;\n",
       "    }\n",
       "</style>\n",
       "<table border=\"1\" class=\"dataframe\">\n",
       "  <thead>\n",
       "    <tr style=\"text-align: right;\">\n",
       "      <th></th>\n",
       "      <th>index</th>\n",
       "      <th>movie_title</th>\n",
       "    </tr>\n",
       "  </thead>\n",
       "  <tbody>\n",
       "    <tr>\n",
       "      <th>0</th>\n",
       "      <td>The Hunchback of Notre Dame</td>\n",
       "      <td>6</td>\n",
       "    </tr>\n",
       "    <tr>\n",
       "      <th>1</th>\n",
       "      <td>Oliver Twist</td>\n",
       "      <td>5</td>\n",
       "    </tr>\n",
       "    <tr>\n",
       "      <th>2</th>\n",
       "      <td>Anna Karenina</td>\n",
       "      <td>5</td>\n",
       "    </tr>\n",
       "    <tr>\n",
       "      <th>3</th>\n",
       "      <td>Hamlet</td>\n",
       "      <td>4</td>\n",
       "    </tr>\n",
       "    <tr>\n",
       "      <th>4</th>\n",
       "      <td>Treasure Island</td>\n",
       "      <td>4</td>\n",
       "    </tr>\n",
       "    <tr>\n",
       "      <th>5</th>\n",
       "      <td>Bad Company</td>\n",
       "      <td>4</td>\n",
       "    </tr>\n",
       "    <tr>\n",
       "      <th>6</th>\n",
       "      <td>Peter Pan</td>\n",
       "      <td>4</td>\n",
       "    </tr>\n",
       "    <tr>\n",
       "      <th>7</th>\n",
       "      <td>Pinocchio</td>\n",
       "      <td>4</td>\n",
       "    </tr>\n",
       "  </tbody>\n",
       "</table>\n",
       "</div>"
      ],
      "text/plain": [
       "                         index  movie_title\n",
       "0  The Hunchback of Notre Dame            6\n",
       "1                 Oliver Twist            5\n",
       "2                Anna Karenina            5\n",
       "3                       Hamlet            4\n",
       "4              Treasure Island            4\n",
       "5                  Bad Company            4\n",
       "6                    Peter Pan            4\n",
       "7                    Pinocchio            4"
      ]
     },
     "metadata": {},
     "output_type": "display_data"
    },
    {
     "name": "stdout",
     "output_type": "stream",
     "text": [
      "#Movies with atleast four different ids 8\n"
     ]
    }
   ],
   "source": [
    "grouped = df_movie.movie_title.value_counts().reset_index()\n",
    "display(grouped[grouped.movie_title>=4])\n",
    "print(\"#Movies with atleast four different ids\", grouped[grouped.movie_title>=4].count()[0])"
   ]
  },
  {
   "cell_type": "markdown",
   "metadata": {},
   "source": [
    "### 5. Lets review both"
   ]
  },
  {
   "cell_type": "markdown",
   "metadata": {},
   "source": [
    "5.a How many users rated exactly 200 movies"
   ]
  },
  {
   "cell_type": "code",
   "execution_count": 23,
   "metadata": {},
   "outputs": [
    {
     "name": "stdout",
     "output_type": "stream",
     "text": [
      "#Users rates exactly 200 movies: 605\n"
     ]
    }
   ],
   "source": [
    "grouped = df_final.groupby(\"customer_id\")['movie'].count().reset_index()\n",
    "grouped_200 = grouped[grouped.movie==200]\n",
    "print(\"#Users rates exactly 200 movies:\",grouped_200.count()[0])"
   ]
  },
  {
   "cell_type": "markdown",
   "metadata": {},
   "source": [
    "5.b Of these users, take the lowest user ID and print out the names of the movies that\n",
    "this person liked the most (all 5 star ratings)."
   ]
  },
  {
   "cell_type": "code",
   "execution_count": 24,
   "metadata": {},
   "outputs": [],
   "source": [
    "customer_min = df_final[(df_final.customer_id == grouped_200['customer_id'].astype(int).min()) & (df_final.rating==5)]"
   ]
  },
  {
   "cell_type": "code",
   "execution_count": 25,
   "metadata": {},
   "outputs": [
    {
     "data": {
      "text/plain": [
       "0                                         High Fidelity\n",
       "1     Monty Python's The Meaning of Life: Special Ed...\n",
       "2                                       American Beauty\n",
       "3                                            Roger & Me\n",
       "4                 Eternal Sunshine of the Spotless Mind\n",
       "5                                  Being John Malkovich\n",
       "6                         Vietnam: A Television History\n",
       "7                                         Super Size Me\n",
       "8         Lord of the Rings: The Fellowship of the Ring\n",
       "9                                    This Is Spinal Tap\n",
       "10                                          The Pianist\n",
       "11                             The Silence of the Lambs\n",
       "12                                             Sideways\n",
       "13                                          Whale Rider\n",
       "14                                         Garden State\n",
       "15                                Bowling for Columbine\n",
       "16                                               Gandhi\n",
       "17                                 Apocalypse Now Redux\n",
       "18                                           To Die For\n",
       "19                         Monty Python's Life of Brian\n",
       "20                             The Manchurian Candidate\n",
       "21                                              Memento\n",
       "22                                               Amelie\n",
       "23                                       Apocalypse Now\n",
       "24                                   The Usual Suspects\n",
       "25    Lord of the Rings: The Two Towers: Extended Ed...\n",
       "26    The Lord of the Rings: The Fellowship of the R...\n",
       "27                                    Touching the Void\n",
       "28                                      Minority Report\n",
       "29                                 The Royal Tenenbaums\n",
       "30                                             Election\n",
       "31                                    Good Will Hunting\n",
       "32                                    L.A. Confidential\n",
       "33                                          Taxi Driver\n",
       "34                    Lord of the Rings: The Two Towers\n",
       "35                                              Cabaret\n",
       "36                                           Adaptation\n",
       "37                                          The Accused\n",
       "38                                  Lost in Translation\n",
       "39                                       Boys Don't Cry\n",
       "40                                    To Be and To Have\n",
       "41                                     Schindler's List\n",
       "42                                          Raging Bull\n",
       "43            Lord of the Rings: The Return of the King\n",
       "44                      Monty Python and the Holy Grail\n",
       "45                                      Raising Arizona\n",
       "46            The Shawshank Redemption: Special Edition\n",
       "47                                     Harold and Maude\n",
       "48                                             Downfall\n",
       "49    Lord of the Rings: The Return of the King: Ext...\n",
       "50                                              Monster\n",
       "51                                     Band of Brothers\n",
       "52                                          Three Kings\n",
       "53                                           Unforgiven\n",
       "54                                  Maria Full of Grace\n",
       "55                               Days of Wine and Roses\n",
       "56                                  Shakespeare in Love\n",
       "Name: movie_title, dtype: object"
      ]
     },
     "execution_count": 25,
     "metadata": {},
     "output_type": "execute_result"
    }
   ],
   "source": [
    "pd.merge(customer_min, df_movie, left_on='movie', right_on='id', how='inner')['movie_title']"
   ]
  }
 ],
 "metadata": {
  "colab": {
   "provenance": []
  },
  "kernelspec": {
   "display_name": "Python 3 (ipykernel)",
   "language": "python",
   "name": "python3"
  },
  "language_info": {
   "codemirror_mode": {
    "name": "ipython",
    "version": 3
   },
   "file_extension": ".py",
   "mimetype": "text/x-python",
   "name": "python",
   "nbconvert_exporter": "python",
   "pygments_lexer": "ipython3",
   "version": "3.11.4"
  }
 },
 "nbformat": 4,
 "nbformat_minor": 1
}
