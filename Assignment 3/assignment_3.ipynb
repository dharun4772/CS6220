{
  "cells": [
    {
      "cell_type": "code",
      "execution_count": 2,
      "metadata": {
        "colab": {
          "base_uri": "https://localhost:8080/"
        },
        "id": "RezBOvxyt8jZ",
        "outputId": "98de55cc-c2ea-49b8-a504-420605ff3eaf",
        "cellView": "form"
      },
      "outputs": [
        {
          "output_type": "stream",
          "name": "stdout",
          "text": [
            "Collecting pyspark\n",
            "  Downloading pyspark-3.5.0.tar.gz (316.9 MB)\n",
            "\u001b[2K     \u001b[90m━━━━━━━━━━━━━━━━━━━━━━━━━━━━━━━━━━━━━━━━\u001b[0m \u001b[32m316.9/316.9 MB\u001b[0m \u001b[31m4.4 MB/s\u001b[0m eta \u001b[36m0:00:00\u001b[0m\n",
            "\u001b[?25h  Preparing metadata (setup.py) ... \u001b[?25l\u001b[?25hdone\n",
            "Requirement already satisfied: py4j==0.10.9.7 in /usr/local/lib/python3.10/dist-packages (from pyspark) (0.10.9.7)\n",
            "Building wheels for collected packages: pyspark\n",
            "  Building wheel for pyspark (setup.py) ... \u001b[?25l\u001b[?25hdone\n",
            "  Created wheel for pyspark: filename=pyspark-3.5.0-py2.py3-none-any.whl size=317425345 sha256=d4f6b70fcaba2c8afea17a1c62620e9ecd31e79697ed88a89e154f5429a1d6f5\n",
            "  Stored in directory: /root/.cache/pip/wheels/41/4e/10/c2cf2467f71c678cfc8a6b9ac9241e5e44a01940da8fbb17fc\n",
            "Successfully built pyspark\n",
            "Installing collected packages: pyspark\n",
            "Successfully installed pyspark-3.5.0\n",
            "The following additional packages will be installed:\n",
            "  libxtst6 openjdk-8-jre-headless\n",
            "Suggested packages:\n",
            "  openjdk-8-demo openjdk-8-source libnss-mdns fonts-dejavu-extra fonts-nanum fonts-ipafont-gothic\n",
            "  fonts-ipafont-mincho fonts-wqy-microhei fonts-wqy-zenhei fonts-indic\n",
            "The following NEW packages will be installed:\n",
            "  libxtst6 openjdk-8-jdk-headless openjdk-8-jre-headless\n",
            "0 upgraded, 3 newly installed, 0 to remove and 32 not upgraded.\n",
            "Need to get 39.7 MB of archives.\n",
            "After this operation, 144 MB of additional disk space will be used.\n",
            "Selecting previously unselected package libxtst6:amd64.\n",
            "(Reading database ... 121747 files and directories currently installed.)\n",
            "Preparing to unpack .../libxtst6_2%3a1.2.3-1build4_amd64.deb ...\n",
            "Unpacking libxtst6:amd64 (2:1.2.3-1build4) ...\n",
            "Selecting previously unselected package openjdk-8-jre-headless:amd64.\n",
            "Preparing to unpack .../openjdk-8-jre-headless_8u392-ga-1~22.04_amd64.deb ...\n",
            "Unpacking openjdk-8-jre-headless:amd64 (8u392-ga-1~22.04) ...\n",
            "Selecting previously unselected package openjdk-8-jdk-headless:amd64.\n",
            "Preparing to unpack .../openjdk-8-jdk-headless_8u392-ga-1~22.04_amd64.deb ...\n",
            "Unpacking openjdk-8-jdk-headless:amd64 (8u392-ga-1~22.04) ...\n",
            "Setting up libxtst6:amd64 (2:1.2.3-1build4) ...\n",
            "Setting up openjdk-8-jre-headless:amd64 (8u392-ga-1~22.04) ...\n",
            "update-alternatives: using /usr/lib/jvm/java-8-openjdk-amd64/jre/bin/orbd to provide /usr/bin/orbd (orbd) in auto mode\n",
            "update-alternatives: using /usr/lib/jvm/java-8-openjdk-amd64/jre/bin/servertool to provide /usr/bin/servertool (servertool) in auto mode\n",
            "update-alternatives: using /usr/lib/jvm/java-8-openjdk-amd64/jre/bin/tnameserv to provide /usr/bin/tnameserv (tnameserv) in auto mode\n",
            "Setting up openjdk-8-jdk-headless:amd64 (8u392-ga-1~22.04) ...\n",
            "update-alternatives: using /usr/lib/jvm/java-8-openjdk-amd64/bin/clhsdb to provide /usr/bin/clhsdb (clhsdb) in auto mode\n",
            "update-alternatives: using /usr/lib/jvm/java-8-openjdk-amd64/bin/extcheck to provide /usr/bin/extcheck (extcheck) in auto mode\n",
            "update-alternatives: using /usr/lib/jvm/java-8-openjdk-amd64/bin/hsdb to provide /usr/bin/hsdb (hsdb) in auto mode\n",
            "update-alternatives: using /usr/lib/jvm/java-8-openjdk-amd64/bin/idlj to provide /usr/bin/idlj (idlj) in auto mode\n",
            "update-alternatives: using /usr/lib/jvm/java-8-openjdk-amd64/bin/javah to provide /usr/bin/javah (javah) in auto mode\n",
            "update-alternatives: using /usr/lib/jvm/java-8-openjdk-amd64/bin/jhat to provide /usr/bin/jhat (jhat) in auto mode\n",
            "update-alternatives: using /usr/lib/jvm/java-8-openjdk-amd64/bin/jsadebugd to provide /usr/bin/jsadebugd (jsadebugd) in auto mode\n",
            "update-alternatives: using /usr/lib/jvm/java-8-openjdk-amd64/bin/native2ascii to provide /usr/bin/native2ascii (native2ascii) in auto mode\n",
            "update-alternatives: using /usr/lib/jvm/java-8-openjdk-amd64/bin/schemagen to provide /usr/bin/schemagen (schemagen) in auto mode\n",
            "update-alternatives: using /usr/lib/jvm/java-8-openjdk-amd64/bin/wsgen to provide /usr/bin/wsgen (wsgen) in auto mode\n",
            "update-alternatives: using /usr/lib/jvm/java-8-openjdk-amd64/bin/wsimport to provide /usr/bin/wsimport (wsimport) in auto mode\n",
            "update-alternatives: using /usr/lib/jvm/java-8-openjdk-amd64/bin/xjc to provide /usr/bin/xjc (xjc) in auto mode\n",
            "Processing triggers for libc-bin (2.35-0ubuntu3.4) ...\n",
            "/sbin/ldconfig.real: /usr/local/lib/libtbbbind.so.3 is not a symbolic link\n",
            "\n",
            "/sbin/ldconfig.real: /usr/local/lib/libtbbmalloc_proxy.so.2 is not a symbolic link\n",
            "\n",
            "/sbin/ldconfig.real: /usr/local/lib/libtbbbind_2_5.so.3 is not a symbolic link\n",
            "\n",
            "/sbin/ldconfig.real: /usr/local/lib/libtbb.so.12 is not a symbolic link\n",
            "\n",
            "/sbin/ldconfig.real: /usr/local/lib/libtbbbind_2_0.so.3 is not a symbolic link\n",
            "\n",
            "/sbin/ldconfig.real: /usr/local/lib/libtbbmalloc.so.2 is not a symbolic link\n",
            "\n"
          ]
        }
      ],
      "source": [
        "#@title Download and install the PySpark packages\n",
        "\n",
        "!pip install pyspark\n",
        "!pip install -U -q PyDrive\n",
        "!apt install openjdk-8-jdk-headless -qq\n",
        "import os\n",
        "os.environ[\"JAVA_HOME\"] = \"/usr/lib/jvm/java-8-openjdk-amd64\""
      ]
    },
    {
      "cell_type": "code",
      "execution_count": 3,
      "metadata": {
        "id": "V5zmLsnxuS13",
        "cellView": "form"
      },
      "outputs": [],
      "source": [
        "#@title Setup Spark and Data\n",
        "\n",
        "from pyspark.sql import *\n",
        "from pyspark.sql.functions import *\n",
        "from pyspark import SparkContext\n",
        "import pandas as pd\n",
        "\n",
        "# create the Spark Session\n",
        "spark = SparkSession.builder.getOrCreate()\n",
        "\n",
        "# create the Spark Context\n",
        "sc = spark.sparkContext"
      ]
    },
    {
      "cell_type": "code",
      "execution_count": 4,
      "metadata": {
        "colab": {
          "base_uri": "https://localhost:8080/"
        },
        "id": "vfXIFzKdu4xS",
        "outputId": "622e49e5-e9bd-48c4-8ba8-b3efd1e38105"
      },
      "outputs": [
        {
          "output_type": "stream",
          "name": "stdout",
          "text": [
            "--2024-02-06 02:24:52--  https://course.ccs.neu.edu/cs6220/fall2023/homework-3/soc-LiveJournal1Adj.txt\n",
            "Resolving course.ccs.neu.edu (course.ccs.neu.edu)... 129.10.117.35\n",
            "Connecting to course.ccs.neu.edu (course.ccs.neu.edu)|129.10.117.35|:443... connected.\n",
            "HTTP request sent, awaiting response... 200 OK\n",
            "Length: 4156181 (4.0M) [text/plain]\n",
            "Saving to: ‘soc-LiveJournal1Adj.txt’\n",
            "\n",
            "soc-LiveJournal1Adj 100%[===================>]   3.96M  8.90MB/s    in 0.4s    \n",
            "\n",
            "2024-02-06 02:24:53 (8.90 MB/s) - ‘soc-LiveJournal1Adj.txt’ saved [4156181/4156181]\n",
            "\n"
          ]
        }
      ],
      "source": [
        "!wget https://course.ccs.neu.edu/cs6220/fall2023/homework-3/soc-LiveJournal1Adj.txt"
      ]
    },
    {
      "cell_type": "code",
      "execution_count": 5,
      "metadata": {
        "id": "OQCMhxkPnNLz"
      },
      "outputs": [],
      "source": [
        "def parse_line(line):\n",
        "    parts = line.split('\\t')\n",
        "    user = int(parts[0])\n",
        "    friends =  [] if parts[1]=='' else list(map(int, parts[1].split(',')))\n",
        "    return user, friends\n",
        "\n",
        "def mutual_friends(pair):\n",
        "    (user, friend), mutual_friends = pair\n",
        "    return user, (friend, mutual_friends)\n",
        "\n",
        "# Load the data\n",
        "raw_data = sc.textFile(\"soc-LiveJournal1Adj.txt\")\n",
        "\n",
        "# Convert data to key-value pairs (user, friends)\n",
        "user_friends_rdd = raw_data.map(parse_line)\n",
        "\n",
        "friend_pairs = user_friends_rdd\\\n",
        ".flatMap(lambda x: [(x[0], friend) for friend in x[1]])\n",
        "\n",
        "#leave our all the pairs that are already taken to eradicate redundancy network counts\n",
        "mutual_friends_pairs = friend_pairs\\\n",
        ".join(friend_pairs)\\\n",
        ".filter(lambda x: x[1][0] < x[1][1])\n",
        "\n",
        "#filter out all the users that are direct friends.\n",
        "mutual_friends_count = mutual_friends_pairs\\\n",
        ".map(lambda x: (x[1][0],x[1][1]))\\\n",
        ".join(user_friends_rdd)\\\n",
        ".filter(lambda x: x[1][0] not in x[1][1])\\\n",
        ".map(lambda x : ((x[0],x[1][0]),1))\\\n",
        ".reduceByKey(lambda x, y: x + y)\n",
        "\n",
        "\n",
        "# Create a DataFrame from mutual_friends_count RDD\n",
        "mutual_friends_df = mutual_friends_count.toDF([\"user_pair\", \"mutual_friends_count\"])\n",
        "# Split user_pair column into two separate columns\n",
        "mutual_friends_df = mutual_friends_df\\\n",
        ".withColumn(\"user1\",mutual_friends_df.user_pair._1)\\\n",
        ".withColumn(\"user2\", mutual_friends_df.user_pair._2)\n",
        "\n",
        "# # Drop the user_pair column\n",
        "mutual_friends_df = mutual_friends_df.drop(\"user_pair\")\n",
        "\n",
        "# # Group the data by user and create a list of recommendations\n",
        "user_recommendations = mutual_friends_df.groupBy(\"user1\").agg(\n",
        "    collect_list(struct(col(\"user2\"), col(\"mutual_friends_count\"))).alias(\"mutual_friends\")\n",
        ")"
      ]
    },
    {
      "cell_type": "code",
      "source": [
        "# Function to extract top N recommendations based on the logic mentioned in the question\n",
        "def get_top_recommendations(row, N=10):\n",
        "    user = row[0]\n",
        "    mutual_friends = sorted(row[1], key=lambda x: (-x[1], x[0]))[:N]\n",
        "    recommendations = [friend for friend, _ in mutual_friends]\n",
        "    return user, recommendations\n",
        "\n",
        "# Apply the function to each row and collect the results\n",
        "result = user_recommendations.rdd.map(get_top_recommendations)"
      ],
      "metadata": {
        "id": "APJImbFhK7a6"
      },
      "execution_count": 6,
      "outputs": []
    },
    {
      "cell_type": "code",
      "source": [
        "#sorting by key to display the result in the text\n",
        "final_result = result.sortByKey().collect()\n",
        "\n",
        "#writing the results to the ouput file and named output.txt\n",
        "with open(\"output.txt\", \"w\") as file:\n",
        "  for user, recommendations in final_result:\n",
        "    file.write(f\"{user}\\t{','.join(map(str, recommendations))}\"+\"\\n\")"
      ],
      "metadata": {
        "id": "KcX1JoXabmHR"
      },
      "execution_count": 17,
      "outputs": []
    },
    {
      "cell_type": "code",
      "execution_count": 7,
      "metadata": {
        "colab": {
          "base_uri": "https://localhost:8080/"
        },
        "id": "MOON6Of6qoM7",
        "outputId": "8b33c324-b38a-4fc0-c19c-fcb687a1282e"
      },
      "outputs": [
        {
          "output_type": "stream",
          "name": "stdout",
          "text": [
            "924 [(924, [2409, 6995, 11860, 15416, 43748, 45881])]\n",
            "8941 [(8941, [8943, 8944])]\n",
            "8942 [(8942, [8943, 8944])]\n",
            "9019 [(9019, [9022, 9023])]\n",
            "9020 [(9020, [9021, 9022, 9023])]\n",
            "9021 [(9021, [9022, 9023])]\n",
            "9022 [(9022, [9023])]\n",
            "9990 [(9990, [13134, 13478, 13877, 34299, 34485, 34642, 37941])]\n",
            "9992 [(9992, [35667])]\n",
            "9993 [(9993, [13134, 13478, 13877, 34299, 34485, 34642, 37941])]\n"
          ]
        }
      ],
      "source": [
        "#printing the needed examples for the Document\n",
        "for i in [ 924, 8941, 8942, 9019, 9020, 9021, 9022, 9990, 9992, 9993]:\n",
        "  print(i, result.filter(lambda x : x[0]==i).take(1))"
      ]
    }
  ],
  "metadata": {
    "colab": {
      "provenance": []
    },
    "kernelspec": {
      "display_name": "Python 3",
      "name": "python3"
    },
    "language_info": {
      "name": "python"
    }
  },
  "nbformat": 4,
  "nbformat_minor": 0
}